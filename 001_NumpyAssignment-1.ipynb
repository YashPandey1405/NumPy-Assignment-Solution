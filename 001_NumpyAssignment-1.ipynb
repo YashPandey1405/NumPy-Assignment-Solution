{
 "cells": [
  {
   "cell_type": "markdown",
   "metadata": {},
   "source": [
    "# NumPy Assignment Solutions  \n",
    "\n",
    "### This Jupyter Notebook contains solutions for Questions 1 to 20 from the NumPy Assignment.  \n",
    "\n",
    "## 📂 File Structure for Better Readability:  \n",
    "- **001_NumpyAssignment-1** → Solutions for Questions **1 to 20**  \n",
    "- **002_NumpyAssignment-2** → Solutions for Questions **21 to 40**  \n",
    "- **003_NumpyAssignment-3** → Solutions for Questions **41 to 60**  \n",
    "- **004_NumpyAssignment-4** → Solutions for Questions **61 to 85**  \n",
    "\n",
    "Each file is structured to ensure clarity and ease of navigation. 🚀  "
   ]
  },
  {
   "cell_type": "code",
   "execution_count": 1,
   "metadata": {},
   "outputs": [],
   "source": [
    "import numpy as np"
   ]
  },
  {
   "cell_type": "code",
   "execution_count": 2,
   "metadata": {},
   "outputs": [
    {
     "name": "stdout",
     "output_type": "stream",
     "text": [
      "int64\n"
     ]
    }
   ],
   "source": [
    "# 1. Create a NumPy array 'arr' of integers from 0 to 5 and print its data type.\n",
    "list=[1,2,3,4,5]\n",
    "arr=np.array(list)\n",
    "print(arr.dtype)  "
   ]
  },
  {
   "cell_type": "code",
   "execution_count": null,
   "metadata": {},
   "outputs": [
    {
     "name": "stdout",
     "output_type": "stream",
     "text": [
      "float64\n"
     ]
    }
   ],
   "source": [
    "# 2. Given a NumPy array 'arr', check if its data type is float64.\n",
    "arr = np.array([1.5, 2.6, 3.7])\n",
    "print(arr.dtype)  # Yes , It's Datatype Is 'float64'..."
   ]
  },
  {
   "cell_type": "code",
   "execution_count": 4,
   "metadata": {},
   "outputs": [
    {
     "name": "stdout",
     "output_type": "stream",
     "text": [
      "Complex Array:  [1.+2.j 3.-4.j 5.+6.j]\n"
     ]
    }
   ],
   "source": [
    "# 3. Create a NumPy array 'arr' with a data type of complex128 containing three complex numbers.\n",
    "arr = np.array([1+2j, 3-4j, 5+6j], dtype=np.complex128)\n",
    "print(\"Complex Array: \", arr)"
   ]
  },
  {
   "cell_type": "code",
   "execution_count": 7,
   "metadata": {},
   "outputs": [
    {
     "name": "stdout",
     "output_type": "stream",
     "text": [
      "float32\n"
     ]
    }
   ],
   "source": [
    "# 4. Convert an existing NumPy array 'arr' of integers to float32 data type.\n",
    "arr=np.array([1,2,3,4,5])\n",
    "arr=np.array(arr,dtype=np.float32)\n",
    "print(arr.dtype)"
   ]
  },
  {
   "cell_type": "code",
   "execution_count": null,
   "metadata": {},
   "outputs": [
    {
     "name": "stdout",
     "output_type": "stream",
     "text": [
      "float64\n",
      "float32\n"
     ]
    }
   ],
   "source": [
    "# 5. Given a NumPy array 'arr' with float64 data type, convert it to float32 to reduce decimal precision\n",
    "arr=np.array([1.2,2.3,3.4,4.5,5.6])\n",
    "print(arr.dtype)\n",
    "\n",
    "arr=np.array(arr,dtype=np.float32)\n",
    "print(arr.dtype)"
   ]
  },
  {
   "cell_type": "code",
   "execution_count": null,
   "metadata": {},
   "outputs": [
    {
     "name": "stdout",
     "output_type": "stream",
     "text": [
      "((5,), 5, dtype('int64'))\n"
     ]
    }
   ],
   "source": [
    "# 6. Write a function array_attributes that takes a NumPy array as input and returns its shape, size, and datatype.\n",
    "def array_attributes(arr):\n",
    "    return arr.shape, arr.size, arr.dtype\n",
    "\n",
    "arr=np.array([1,2,3,4,5])\n",
    "print(array_attributes(arr))   "
   ]
  },
  {
   "cell_type": "code",
   "execution_count": 12,
   "metadata": {},
   "outputs": [
    {
     "name": "stdout",
     "output_type": "stream",
     "text": [
      "1\n"
     ]
    }
   ],
   "source": [
    "# 7. Create a function array_dimension that takes a NumPy array as input and returns its dimensionality.\n",
    "def array_dimension(arr):\n",
    "    return arr.ndim\n",
    "\n",
    "arr=np.array([1,2,3,4,5])\n",
    "print(array_dimension(arr))"
   ]
  },
  {
   "cell_type": "code",
   "execution_count": 13,
   "metadata": {},
   "outputs": [
    {
     "name": "stdout",
     "output_type": "stream",
     "text": [
      "(8, 40)\n"
     ]
    }
   ],
   "source": [
    "# 8. Design a function item_size_info that takes a NumPy array as input and returns the item size and the total-size in bytes.\n",
    "def item_size_info(arr):\n",
    "    item_size = arr.itemsize  \n",
    "    total_size = arr.nbytes   \n",
    "    return item_size, total_size\n",
    "\n",
    "arr=np.array([1,2,3,4,5])\n",
    "print(item_size_info(arr))"
   ]
  },
  {
   "cell_type": "code",
   "execution_count": null,
   "metadata": {},
   "outputs": [
    {
     "name": "stdout",
     "output_type": "stream",
     "text": [
      "(8,)\n"
     ]
    }
   ],
   "source": [
    "# 9. Create a function array_strides that takes a NumPy array as input and returns the strides of the array.\n",
    "def array_strides(arr):\n",
    "    return arr.strides\n",
    "\n",
    "arr=np.array([1,2,3,4,5])\n",
    "print(array_strides(arr))"
   ]
  },
  {
   "cell_type": "code",
   "execution_count": 16,
   "metadata": {},
   "outputs": [
    {
     "name": "stdout",
     "output_type": "stream",
     "text": [
      "((5,), (8,))\n"
     ]
    }
   ],
   "source": [
    "# 10. Design a function shape_stride_relationship that takes a NumPy array as input and returns the shape and strides of the array.\n",
    "def shape_stride_relationship(arr):\n",
    "    return arr.shape ,arr.strides\n",
    "\n",
    "arr=np.array([1,2,3,4,5])\n",
    "print(shape_stride_relationship(arr))"
   ]
  },
  {
   "cell_type": "code",
   "execution_count": 17,
   "metadata": {},
   "outputs": [
    {
     "name": "stdout",
     "output_type": "stream",
     "text": [
      "[0. 0. 0. 0. 0.]\n"
     ]
    }
   ],
   "source": [
    "# 11. Create a function `create_zeros_array` that takes an integer `n` as input and returns a NumPy array of zeros with `n` elements.\n",
    "def create_zeros_array(n):\n",
    "    return np.zeros(n)  \n",
    "\n",
    "print(create_zeros_array(5))"
   ]
  },
  {
   "cell_type": "code",
   "execution_count": 18,
   "metadata": {},
   "outputs": [
    {
     "name": "stdout",
     "output_type": "stream",
     "text": [
      "[[1. 1. 1.]\n",
      " [1. 1. 1.]]\n"
     ]
    }
   ],
   "source": [
    "# 12. Write a function `create_ones_matrix` that takes integers `rows` and `cols` as inputs and generates a 2D NumPy array filled with ones of size `rows x cols`.\n",
    "def create_ones_matrix(m,n):\n",
    "    return np.ones((m,n))\n",
    "\n",
    "print(create_ones_matrix(2,3))"
   ]
  },
  {
   "cell_type": "code",
   "execution_count": 19,
   "metadata": {},
   "outputs": [
    {
     "name": "stdout",
     "output_type": "stream",
     "text": [
      "[1 3 5 7 9]\n"
     ]
    }
   ],
   "source": [
    "# 13. Write a function `generate_range_array` that takes three integers start, stop, and step as arguments and\n",
    "# creates a NumPy array with a range starting from `start`, ending at stop (exclusive), and with the specified `step`.\n",
    "\n",
    "def generate_range_array(start,stop,step):\n",
    "    return np.arange(start,stop,step)\n",
    "\n",
    "print(generate_range_array(1,10,2))"
   ]
  },
  {
   "cell_type": "code",
   "execution_count": 20,
   "metadata": {},
   "outputs": [
    {
     "name": "stdout",
     "output_type": "stream",
     "text": [
      "[1. 2. 3. 4. 5.]\n"
     ]
    }
   ],
   "source": [
    "# 14. Design a function `generate_linear_space` that takes two floats `start`, `stop`, and an integer `num` as\n",
    "# arguments and generates a NumPy array with num equally spaced values between `start` and `stop`(inclusive).\n",
    "\n",
    "def generate_linear_space(start, stop, num):\n",
    "    return np.linspace(start, stop, num)\n",
    "\n",
    "print(generate_linear_space(1.0, 5.0, 5))  "
   ]
  },
  {
   "cell_type": "code",
   "execution_count": 23,
   "metadata": {},
   "outputs": [
    {
     "name": "stdout",
     "output_type": "stream",
     "text": [
      "[[1. 0.]\n",
      " [0. 1.]]\n"
     ]
    }
   ],
   "source": [
    "# 15. Create a function `create_identity_matrix` that takes an integer `n` as input and generates a square identity matrix of size `n x n` using `numpy.eye`.\n",
    "def create_identity_matrix(n):\n",
    "    return np.eye(n)\n",
    "\n",
    "print(create_identity_matrix(2))"
   ]
  },
  {
   "cell_type": "code",
   "execution_count": 25,
   "metadata": {},
   "outputs": [
    {
     "name": "stdout",
     "output_type": "stream",
     "text": [
      "[1 2 3 4 5]\n"
     ]
    }
   ],
   "source": [
    "# 16. Write a function that takes a Python list and converts it into a NumPy array.\n",
    "def listToArray(list):\n",
    "    return np.array(list)\n",
    "\n",
    "print(listToArray([1,2,3,4,5]))  "
   ]
  },
  {
   "cell_type": "code",
   "execution_count": null,
   "metadata": {},
   "outputs": [
    {
     "name": "stdout",
     "output_type": "stream",
     "text": [
      "Original Array: [99 20 30 40]\n",
      "View Array: [99 20 30 40]\n"
     ]
    }
   ],
   "source": [
    "# 17. Create a NumPy array and demonstrate the use of `numpy.view` to create a new array object with the same data.\n",
    "# Shallow Copy Is Been Done Here \n",
    "\n",
    "arr = np.array([10, 20, 30, 40])\n",
    "view_arr = arr.view()\n",
    "\n",
    "view_arr[0] = 99\n",
    "print(\"Original Array:\", arr)  \n",
    "print(\"View Array:\", view_arr)"
   ]
  },
  {
   "cell_type": "code",
   "execution_count": 28,
   "metadata": {},
   "outputs": [
    {
     "name": "stdout",
     "output_type": "stream",
     "text": [
      "Concatenated along axis 0: [[1 2]\n",
      " [3 4]\n",
      " [5 6]\n",
      " [7 8]]\n",
      "Concatenated along axis 1: [[1 2 5 6]\n",
      " [3 4 7 8]]\n"
     ]
    }
   ],
   "source": [
    "# 18. Write a function that takes two NumPy arrays and concatenates them along a specified axis.\n",
    "def concatenate_arrays(arr1, arr2, axis=0):\n",
    "    return np.concatenate((arr1, arr2), axis=axis)\n",
    "\n",
    "arr1 = np.array([[1, 2], [3, 4]])\n",
    "arr2 = np.array([[5, 6], [7, 8]])\n",
    "\n",
    "print(\"Concatenated along axis 0:\", concatenate_arrays(arr1, arr2, axis=0))\n",
    "print(\"Concatenated along axis 1:\", concatenate_arrays(arr1, arr2, axis=1))"
   ]
  },
  {
   "cell_type": "code",
   "execution_count": 29,
   "metadata": {},
   "outputs": [
    {
     "name": "stdout",
     "output_type": "stream",
     "text": [
      "Concatenated Array: [[1 2 5]\n",
      " [3 4 6]]\n"
     ]
    }
   ],
   "source": [
    "# 19. Create two NumPy arrays with different shapes and concatenate them horizontally using `numpy.concatenate`.\n",
    "arr1 = np.array([[1, 2], [3, 4]])    # Shape: (2, 2)\n",
    "arr2 = np.array([[5], [6]])          # Shape: (2, 1)\n",
    "\n",
    "print(\"Concatenated Array:\", np.concatenate((arr1, arr2), axis=1))"
   ]
  },
  {
   "cell_type": "code",
   "execution_count": 30,
   "metadata": {},
   "outputs": [
    {
     "name": "stdout",
     "output_type": "stream",
     "text": [
      "Vertically Stacked Array:\n",
      " [[1 2]\n",
      " [3 4]\n",
      " [5 6]\n",
      " [7 8]]\n"
     ]
    }
   ],
   "source": [
    "# 20. Write a function that vertically stacks multiple NumPy arrays given as a list.\n",
    "\n",
    "import numpy as np\n",
    "\n",
    "def vertical_stack(arr_list):\n",
    "    return np.vstack(arr_list)\n",
    "\n",
    "arr1 = np.array([[1, 2], [3, 4]])  # Shape: (2,2)\n",
    "arr2 = np.array([[5, 6]])          # Shape: (1,2)\n",
    "arr3 = np.array([[7, 8]])          # Shape: (1,2)\n",
    "\n",
    "result = vertical_stack([arr1, arr2, arr3])\n",
    "print(\"Vertically Stacked Array:\\n\", result)\n"
   ]
  }
 ],
 "metadata": {
  "kernelspec": {
   "display_name": "venv",
   "language": "python",
   "name": "python3"
  },
  "language_info": {
   "codemirror_mode": {
    "name": "ipython",
    "version": 3
   },
   "file_extension": ".py",
   "mimetype": "text/x-python",
   "name": "python",
   "nbconvert_exporter": "python",
   "pygments_lexer": "ipython3",
   "version": "3.12.7"
  }
 },
 "nbformat": 4,
 "nbformat_minor": 2
}
