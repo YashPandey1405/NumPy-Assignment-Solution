{
 "cells": [
  {
   "cell_type": "markdown",
   "metadata": {},
   "source": [
    "# NumPy Assignment Solutions  \n",
    "\n",
    "### This Jupyter Notebook contains solutions for Questions 21 to 40 from the NumPy Assignment.  \n",
    "\n",
    "## 📂 File Structure for Better Readability:  \n",
    "- **001_NumpyAssignment-1** → Solutions for Questions **1 to 20**  \n",
    "- **002_NumpyAssignment-2** → Solutions for Questions **21 to 40**  \n",
    "- **003_NumpyAssignment-3** → Solutions for Questions **41 to 60**  \n",
    "- **004_NumpyAssignment-4** → Solutions for Questions **61 to 85**  \n",
    "\n",
    "Each file is structured to ensure clarity and ease of navigation. 🚀  "
   ]
  },
  {
   "cell_type": "code",
   "execution_count": 1,
   "metadata": {},
   "outputs": [],
   "source": [
    "import numpy as np"
   ]
  },
  {
   "cell_type": "code",
   "execution_count": 2,
   "metadata": {},
   "outputs": [
    {
     "name": "stdout",
     "output_type": "stream",
     "text": [
      "[1 3 5 7 9]\n"
     ]
    }
   ],
   "source": [
    "# 21. Write a Python function using NumPy to create an array of integers within a specified range (inclusive) with a given step size.\n",
    "def create_integer_array(start, stop, step):\n",
    "    return np.arange(start, stop + 1, step)\n",
    "\n",
    "print(create_integer_array(1, 10, 2))  "
   ]
  },
  {
   "cell_type": "code",
   "execution_count": 3,
   "metadata": {},
   "outputs": [
    {
     "name": "stdout",
     "output_type": "stream",
     "text": [
      "[0.         0.11111111 0.22222222 0.33333333 0.44444444 0.55555556\n",
      " 0.66666667 0.77777778 0.88888889 1.        ]\n"
     ]
    }
   ],
   "source": [
    "# 22. Write a Python function using NumPy to generate an array of 10 equally spaced values between 0 and 1 (inclusive).\n",
    "def generate_equally_spaced():\n",
    "    return np.linspace(0, 1, 10)\n",
    "\n",
    "print(generate_equally_spaced())"
   ]
  },
  {
   "cell_type": "code",
   "execution_count": 4,
   "metadata": {},
   "outputs": [
    {
     "name": "stdout",
     "output_type": "stream",
     "text": [
      "[   1.            5.62341325   31.6227766   177.827941   1000.        ]\n"
     ]
    }
   ],
   "source": [
    "# 23. Write a Python function using NumPy to create an array of 5 logarithmically spaced values between 1 and 1000 (inclusive).\n",
    "def generate_log_spaced():\n",
    "    return np.logspace(0, 3, 5)\n",
    "\n",
    "print(generate_log_spaced())\n"
   ]
  },
  {
   "cell_type": "code",
   "execution_count": 5,
   "metadata": {},
   "outputs": [
    {
     "name": "stdout",
     "output_type": "stream",
     "text": [
      "     0   1   2\n",
      "0   12  33  73\n",
      "1   34  30  16\n",
      "2   79   7  95\n",
      "3  100  20  76\n",
      "4   43  72  90\n"
     ]
    }
   ],
   "source": [
    "# 24. Create a Pandas DataFrame using a NumPy array that contains 5 rows and 3 columns, where the values\n",
    "# are random integers between 1 and 100.\n",
    "import pandas as pd\n",
    "\n",
    "def create_dataframe():\n",
    "    return pd.DataFrame(np.random.randint(1, 101, (5, 3)))\n",
    "\n",
    "print(create_dataframe())\n"
   ]
  },
  {
   "cell_type": "code",
   "execution_count": 6,
   "metadata": {},
   "outputs": [
    {
     "name": "stdout",
     "output_type": "stream",
     "text": [
      "   A   B\n",
      "0  1 -10\n",
      "1  0  20\n",
      "2  3 -30\n",
      "3  0  40\n",
      "4  5 -50\n"
     ]
    }
   ],
   "source": [
    "# 25. Write a function that takes a Pandas DataFrame and replaces all negative values in a specific column\n",
    "# with zeros. Use NumPy operations within the Pandas DataFrame.\n",
    "import pandas as pd\n",
    "\n",
    "def replace_negatives(df, column):\n",
    "    df[column] = np.where(df[column] < 0, 0, df[column])\n",
    "    return df\n",
    "\n",
    "data = pd.DataFrame({'A': [1, -2, 3, -4, 5], 'B': [-10, 20, -30, 40, -50]})\n",
    "print(replace_negatives(data, 'A'))\n"
   ]
  },
  {
   "cell_type": "code",
   "execution_count": 8,
   "metadata": {},
   "outputs": [
    {
     "name": "stdout",
     "output_type": "stream",
     "text": [
      "30\n"
     ]
    }
   ],
   "source": [
    "# 26. Access the 3rd element from the given NumPy array.\n",
    "arr = np.array([10, 20, 30, 40, 50])\n",
    "print(arr[2])"
   ]
  },
  {
   "cell_type": "code",
   "execution_count": 9,
   "metadata": {},
   "outputs": [
    {
     "name": "stdout",
     "output_type": "stream",
     "text": [
      "6\n"
     ]
    }
   ],
   "source": [
    "#  27. Retrieve the element at index (1, 2) from the 2D NumPy array.\n",
    "arr_2d = np.array([[1, 2, 3],\n",
    "                   [4, 5, 6],\n",
    "                   [7, 8, 9]])\n",
    "print(arr_2d[1, 2])  "
   ]
  },
  {
   "cell_type": "code",
   "execution_count": 11,
   "metadata": {},
   "outputs": [
    {
     "name": "stdout",
     "output_type": "stream",
     "text": [
      "[ 8 10  7]\n"
     ]
    }
   ],
   "source": [
    "# 28. Using boolean indexing, extract elements greater than 5 from the given NumPy array.\n",
    "arr = np.array([3, 8, 2, 10, 5, 7])\n",
    "result = arr[arr > 5]\n",
    "print(result)"
   ]
  },
  {
   "cell_type": "code",
   "execution_count": 12,
   "metadata": {},
   "outputs": [
    {
     "name": "stdout",
     "output_type": "stream",
     "text": [
      "[3 4 5 6]\n"
     ]
    }
   ],
   "source": [
    "# 29. Perform basic slicing to extract elements from index 2 to 5 (inclusive) from the given NumPy array.\n",
    "arr = np.array([1, 2, 3, 4, 5, 6, 7, 8, 9])\n",
    "print(arr[2:6])  "
   ]
  },
  {
   "cell_type": "code",
   "execution_count": 20,
   "metadata": {},
   "outputs": [
    {
     "name": "stdout",
     "output_type": "stream",
     "text": [
      "[[2 3]\n",
      " [5 6]]\n"
     ]
    }
   ],
   "source": [
    "# 30. Slice the 2D NumPy array to extract the sub-array `[[2, 3], [5, 6]]` from the given array.\n",
    "arr_2d = np.array([[1, 2, 3],\n",
    "                   [4, 5, 6],\n",
    "                   [7, 8, 9]])\n",
    "\n",
    "print(arr_2d[0:2, 1:3])"
   ]
  },
  {
   "cell_type": "code",
   "execution_count": null,
   "metadata": {},
   "outputs": [
    {
     "name": "stdout",
     "output_type": "stream",
     "text": [
      "[30 50 70]\n"
     ]
    }
   ],
   "source": [
    "# 31.Write a NumPy function to extract elements in specific order from a given 2D array based on indices provided in another array.\n",
    "def extract_elements(arr, indices):\n",
    "    return arr[indices[:, 0], indices[:, 1]]\n",
    "\n",
    "arr_2d = np.array([[10, 20, 30], \n",
    "                   [40, 50, 60], \n",
    "                   [70, 80, 90]])\n",
    "\n",
    "indices = np.array([[0, 2], [1, 1], [2, 0]])\n",
    "\n",
    "print(extract_elements(arr_2d, indices))\n"
   ]
  },
  {
   "cell_type": "code",
   "execution_count": 22,
   "metadata": {},
   "outputs": [
    {
     "name": "stdout",
     "output_type": "stream",
     "text": [
      "[25 45 18]\n"
     ]
    }
   ],
   "source": [
    "# 32. Create a NumPy function that filters elements greater than a threshold from a given 1D array using boolean indexing.\n",
    "def filter_greater_than(arr, threshold):\n",
    "    return arr[arr > threshold]\n",
    "\n",
    "arr_1d = np.array([10, 25, 3, 45, 7, 18])\n",
    "threshold = 15\n",
    "\n",
    "print(filter_greater_than(arr_1d, threshold))\n"
   ]
  },
  {
   "cell_type": "code",
   "execution_count": 23,
   "metadata": {},
   "outputs": [
    {
     "name": "stdout",
     "output_type": "stream",
     "text": [
      "[ 5 10 24]\n"
     ]
    }
   ],
   "source": [
    "# 33. Develop a NumPy function that extracts specific elements from a 3D array using indices provided in three separate arrays for each dimension.\n",
    "def extract_from_3d(arr, x_indices, y_indices, z_indices):\n",
    "    return arr[x_indices, y_indices, z_indices]\n",
    "\n",
    "arr_3d = np.arange(27).reshape(3, 3, 3)\n",
    "\n",
    "x_indices = np.array([0, 1, 2])\n",
    "y_indices = np.array([1, 0, 2])\n",
    "z_indices = np.array([2, 1, 0])\n",
    "\n",
    "print(extract_from_3d(arr_3d, x_indices, y_indices, z_indices))\n"
   ]
  },
  {
   "cell_type": "code",
   "execution_count": 24,
   "metadata": {},
   "outputs": [
    {
     "name": "stdout",
     "output_type": "stream",
     "text": [
      "[12 18 25]\n"
     ]
    }
   ],
   "source": [
    "# 34. Write a NumPy function that returns elements from an array where both two conditions are satisfied using boolean indexing.\n",
    "def filter_with_conditions(arr, cond1, cond2):\n",
    "    return arr[(arr > cond1) & (arr < cond2)]\n",
    "\n",
    "arr_1d = np.array([5, 12, 18, 25, 30, 40])\n",
    "cond1 = 10\n",
    "cond2 = 30\n",
    "\n",
    "print(filter_with_conditions(arr_1d, cond1, cond2))\n"
   ]
  },
  {
   "cell_type": "code",
   "execution_count": 26,
   "metadata": {},
   "outputs": [
    {
     "name": "stdout",
     "output_type": "stream",
     "text": [
      "30 50 70 "
     ]
    }
   ],
   "source": [
    "# 35. Create a NumPy function that extracts elements from a 2D array using row and column indices provided in separate arrays.\n",
    "def extract(arr_2d, index_arr):\n",
    "    for i in range(len(index_arr)):  \n",
    "        print(arr_2d[index_arr[i, 0], index_arr[i, 1]], end=\" \")\n",
    "\n",
    "arr_2d = np.array([[10, 20, 30], \n",
    "                   [40, 50, 60], \n",
    "                   [70, 80, 90]])\n",
    "\n",
    "indices = np.array([[0, 2], [1, 1], [2, 0]])\n",
    "extract(arr_2d, indices)"
   ]
  },
  {
   "cell_type": "code",
   "execution_count": null,
   "metadata": {},
   "outputs": [
    {
     "name": "stdout",
     "output_type": "stream",
     "text": [
      "[[ 6  7  8]\n",
      " [ 9 10 11]\n",
      " [12 13 14]]\n"
     ]
    }
   ],
   "source": [
    "# 36. Given an array arr of shape (3, 3), add a scalar value of 5 to each element using NumPy broadcasting.\n",
    "def add_scalar(arr):\n",
    "    return arr + 5\n",
    "\n",
    "arr = np.array([[1, 2, 3], \n",
    "                [4, 5, 6], \n",
    "                [7, 8, 9]])\n",
    "\n",
    "print(add_scalar(arr))"
   ]
  },
  {
   "cell_type": "code",
   "execution_count": 28,
   "metadata": {},
   "outputs": [
    {
     "name": "stdout",
     "output_type": "stream",
     "text": [
      "[[ 2  4  6  8]\n",
      " [15 18 21 24]\n",
      " [36 40 44 48]]\n"
     ]
    }
   ],
   "source": [
    "# 37. Consider two arrays arr1 of shape (1, 3) and arr2 of shape (3, 4). Multiply each row of arr2 by the\n",
    "# corresponding element in arr1 using NumPy broadcasting.\n",
    "\n",
    "def multiply_broadcast(arr1, arr2):\n",
    "    return arr2 * arr1.T\n",
    "\n",
    "arr1 = np.array([[2, 3, 4]])  \n",
    "arr2 = np.array([[1, 2, 3, 4],  \n",
    "                 [5, 6, 7, 8],  \n",
    "                 [9, 10, 11, 12]])\n",
    "\n",
    "print(multiply_broadcast(arr1, arr2))"
   ]
  },
  {
   "cell_type": "code",
   "execution_count": 29,
   "metadata": {},
   "outputs": [
    {
     "name": "stdout",
     "output_type": "stream",
     "text": [
      "[[ 11  21  31]\n",
      " [ 42  52  62]\n",
      " [ 73  83  93]\n",
      " [104 114 124]]\n"
     ]
    }
   ],
   "source": [
    "# 38. Given a 1D array arr1 of shape (1, 4) and a 2D array arr2 of shape (4, 3), add arr1 to each row of arr2 using NumPy broadcasting\n",
    "def add_broadcast(arr1, arr2):\n",
    "    return arr2 + arr1\n",
    "\n",
    "arr1 = np.array([[1, 2, 3, 4]])  \n",
    "arr2 = np.array([[10, 20, 30],  \n",
    "                 [40, 50, 60],  \n",
    "                 [70, 80, 90],  \n",
    "                 [100, 110, 120]])\n",
    "\n",
    "print(add_broadcast(arr1.T, arr2))"
   ]
  },
  {
   "cell_type": "code",
   "execution_count": 30,
   "metadata": {},
   "outputs": [
    {
     "name": "stdout",
     "output_type": "stream",
     "text": [
      "[[11 21 31]\n",
      " [12 22 32]\n",
      " [13 23 33]]\n"
     ]
    }
   ],
   "source": [
    "# 39. Consider two arrays arr1 of shape (3, 1) and arr2 of shape (1, 3). Add these arrays using NumPy broadcasting.\n",
    "def add_broadcast(arr1, arr2):\n",
    "    return arr1 + arr2\n",
    "\n",
    "arr1 = np.array([[1],  \n",
    "                 [2],  \n",
    "                 [3]])\n",
    "\n",
    "arr2 = np.array([[10, 20, 30]])\n",
    "\n",
    "print(add_broadcast(arr1, arr2))"
   ]
  },
  {
   "cell_type": "code",
   "execution_count": 31,
   "metadata": {},
   "outputs": [
    {
     "name": "stdout",
     "output_type": "stream",
     "text": [
      "Shapes are incompatible for broadcasting\n"
     ]
    }
   ],
   "source": [
    "# 40. Given arrays arr1 of shape (2, 3) and arr2 of shape (2, 2), perform multiplication using NumPy\n",
    "# broadcasting. Handle the shape incompatibility.\n",
    "def multiply_broadcast(arr1, arr2):\n",
    "    if arr1.shape[1] != arr2.shape[1]:\n",
    "        raise ValueError(\"Shapes are incompatible for broadcasting\")\n",
    "    return arr1 * arr2[:, :arr1.shape[1]]\n",
    "\n",
    "arr1 = np.array([[1, 2, 3],  \n",
    "                 [4, 5, 6]])\n",
    "\n",
    "arr2 = np.array([[10, 20],  \n",
    "                 [30, 40]])\n",
    "\n",
    "try:\n",
    "    print(multiply_broadcast(arr1, arr2))\n",
    "except ValueError as e:\n",
    "    print(e)"
   ]
  }
 ],
 "metadata": {
  "kernelspec": {
   "display_name": "venv",
   "language": "python",
   "name": "python3"
  },
  "language_info": {
   "codemirror_mode": {
    "name": "ipython",
    "version": 3
   },
   "file_extension": ".py",
   "mimetype": "text/x-python",
   "name": "python",
   "nbconvert_exporter": "python",
   "pygments_lexer": "ipython3",
   "version": "3.12.7"
  }
 },
 "nbformat": 4,
 "nbformat_minor": 2
}
